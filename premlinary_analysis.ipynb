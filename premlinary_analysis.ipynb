{
 "cells": [
  {
   "cell_type": "code",
   "execution_count": 2,
   "metadata": {},
   "outputs": [],
   "source": [
    "import pandas as pd\r\n",
    "import numpy as no\r\n",
    "import matplotlib.pyplot as plt\r\n",
    "import seaborn as sns"
   ]
  },
  {
   "cell_type": "markdown",
   "metadata": {},
   "source": [
    "# 1.Problem Statement\r\n",
    "Which countries have the most progress on reducing emissions? What do they have in common? What policies have they enacted?"
   ]
  },
  {
   "cell_type": "markdown",
   "metadata": {},
   "source": [
    "# 2.Load in Dataset\r\n",
    "Load data in and identify which features to use."
   ]
  },
  {
   "cell_type": "code",
   "execution_count": 16,
   "metadata": {},
   "outputs": [
    {
     "ename": "ParserError",
     "evalue": "Error tokenizing data. C error: Expected 1 fields in line 5, saw 2\n",
     "output_type": "error",
     "traceback": [
      "\u001b[1;31m---------------------------------------------------------------------------\u001b[0m",
      "\u001b[1;31mParserError\u001b[0m                               Traceback (most recent call last)",
      "\u001b[1;32m<ipython-input-16-7d1b9ed7b16a>\u001b[0m in \u001b[0;36m<module>\u001b[1;34m\u001b[0m\n\u001b[0;32m      1\u001b[0m \u001b[0mdf_country\u001b[0m \u001b[1;33m=\u001b[0m \u001b[0mpd\u001b[0m\u001b[1;33m.\u001b[0m\u001b[0mread_csv\u001b[0m\u001b[1;33m(\u001b[0m\u001b[1;34mr'C:\\Users\\Johnny\\Documents\\Chase Datathon\\FFG_Hackathon_Country_Level_Data.csv'\u001b[0m\u001b[1;33m)\u001b[0m\u001b[1;33m\u001b[0m\u001b[1;33m\u001b[0m\u001b[0m\n\u001b[0;32m      2\u001b[0m \u001b[0mdf_region\u001b[0m \u001b[1;33m=\u001b[0m \u001b[0mpd\u001b[0m\u001b[1;33m.\u001b[0m\u001b[0mread_csv\u001b[0m\u001b[1;33m(\u001b[0m\u001b[1;34mr'C:\\Users\\Johnny\\Documents\\Chase Datathon\\FFG_Hackathon_Region_Level_Data.csv'\u001b[0m\u001b[1;33m)\u001b[0m\u001b[1;33m\u001b[0m\u001b[1;33m\u001b[0m\u001b[0m\n\u001b[1;32m----> 3\u001b[1;33m \u001b[0mdf_meta\u001b[0m \u001b[1;33m=\u001b[0m \u001b[0mpd\u001b[0m\u001b[1;33m.\u001b[0m\u001b[0mread_csv\u001b[0m\u001b[1;33m(\u001b[0m\u001b[1;34mr'C:\\Users\\Johnny\\Documents\\Chase Datathon\\FFG_Hackathon_Metadata.xlsx'\u001b[0m\u001b[1;33m)\u001b[0m\u001b[1;33m\u001b[0m\u001b[1;33m\u001b[0m\u001b[0m\n\u001b[0m",
      "\u001b[1;32m~\\anaconda3\\lib\\site-packages\\pandas\\io\\parsers.py\u001b[0m in \u001b[0;36mread_csv\u001b[1;34m(filepath_or_buffer, sep, delimiter, header, names, index_col, usecols, squeeze, prefix, mangle_dupe_cols, dtype, engine, converters, true_values, false_values, skipinitialspace, skiprows, skipfooter, nrows, na_values, keep_default_na, na_filter, verbose, skip_blank_lines, parse_dates, infer_datetime_format, keep_date_col, date_parser, dayfirst, cache_dates, iterator, chunksize, compression, thousands, decimal, lineterminator, quotechar, quoting, doublequote, escapechar, comment, encoding, dialect, error_bad_lines, warn_bad_lines, delim_whitespace, low_memory, memory_map, float_precision)\u001b[0m\n\u001b[0;32m    684\u001b[0m     )\n\u001b[0;32m    685\u001b[0m \u001b[1;33m\u001b[0m\u001b[0m\n\u001b[1;32m--> 686\u001b[1;33m     \u001b[1;32mreturn\u001b[0m \u001b[0m_read\u001b[0m\u001b[1;33m(\u001b[0m\u001b[0mfilepath_or_buffer\u001b[0m\u001b[1;33m,\u001b[0m \u001b[0mkwds\u001b[0m\u001b[1;33m)\u001b[0m\u001b[1;33m\u001b[0m\u001b[1;33m\u001b[0m\u001b[0m\n\u001b[0m\u001b[0;32m    687\u001b[0m \u001b[1;33m\u001b[0m\u001b[0m\n\u001b[0;32m    688\u001b[0m \u001b[1;33m\u001b[0m\u001b[0m\n",
      "\u001b[1;32m~\\anaconda3\\lib\\site-packages\\pandas\\io\\parsers.py\u001b[0m in \u001b[0;36m_read\u001b[1;34m(filepath_or_buffer, kwds)\u001b[0m\n\u001b[0;32m    456\u001b[0m \u001b[1;33m\u001b[0m\u001b[0m\n\u001b[0;32m    457\u001b[0m     \u001b[1;32mtry\u001b[0m\u001b[1;33m:\u001b[0m\u001b[1;33m\u001b[0m\u001b[1;33m\u001b[0m\u001b[0m\n\u001b[1;32m--> 458\u001b[1;33m         \u001b[0mdata\u001b[0m \u001b[1;33m=\u001b[0m \u001b[0mparser\u001b[0m\u001b[1;33m.\u001b[0m\u001b[0mread\u001b[0m\u001b[1;33m(\u001b[0m\u001b[0mnrows\u001b[0m\u001b[1;33m)\u001b[0m\u001b[1;33m\u001b[0m\u001b[1;33m\u001b[0m\u001b[0m\n\u001b[0m\u001b[0;32m    459\u001b[0m     \u001b[1;32mfinally\u001b[0m\u001b[1;33m:\u001b[0m\u001b[1;33m\u001b[0m\u001b[1;33m\u001b[0m\u001b[0m\n\u001b[0;32m    460\u001b[0m         \u001b[0mparser\u001b[0m\u001b[1;33m.\u001b[0m\u001b[0mclose\u001b[0m\u001b[1;33m(\u001b[0m\u001b[1;33m)\u001b[0m\u001b[1;33m\u001b[0m\u001b[1;33m\u001b[0m\u001b[0m\n",
      "\u001b[1;32m~\\anaconda3\\lib\\site-packages\\pandas\\io\\parsers.py\u001b[0m in \u001b[0;36mread\u001b[1;34m(self, nrows)\u001b[0m\n\u001b[0;32m   1194\u001b[0m     \u001b[1;32mdef\u001b[0m \u001b[0mread\u001b[0m\u001b[1;33m(\u001b[0m\u001b[0mself\u001b[0m\u001b[1;33m,\u001b[0m \u001b[0mnrows\u001b[0m\u001b[1;33m=\u001b[0m\u001b[1;32mNone\u001b[0m\u001b[1;33m)\u001b[0m\u001b[1;33m:\u001b[0m\u001b[1;33m\u001b[0m\u001b[1;33m\u001b[0m\u001b[0m\n\u001b[0;32m   1195\u001b[0m         \u001b[0mnrows\u001b[0m \u001b[1;33m=\u001b[0m \u001b[0m_validate_integer\u001b[0m\u001b[1;33m(\u001b[0m\u001b[1;34m\"nrows\"\u001b[0m\u001b[1;33m,\u001b[0m \u001b[0mnrows\u001b[0m\u001b[1;33m)\u001b[0m\u001b[1;33m\u001b[0m\u001b[1;33m\u001b[0m\u001b[0m\n\u001b[1;32m-> 1196\u001b[1;33m         \u001b[0mret\u001b[0m \u001b[1;33m=\u001b[0m \u001b[0mself\u001b[0m\u001b[1;33m.\u001b[0m\u001b[0m_engine\u001b[0m\u001b[1;33m.\u001b[0m\u001b[0mread\u001b[0m\u001b[1;33m(\u001b[0m\u001b[0mnrows\u001b[0m\u001b[1;33m)\u001b[0m\u001b[1;33m\u001b[0m\u001b[1;33m\u001b[0m\u001b[0m\n\u001b[0m\u001b[0;32m   1197\u001b[0m \u001b[1;33m\u001b[0m\u001b[0m\n\u001b[0;32m   1198\u001b[0m         \u001b[1;31m# May alter columns / col_dict\u001b[0m\u001b[1;33m\u001b[0m\u001b[1;33m\u001b[0m\u001b[1;33m\u001b[0m\u001b[0m\n",
      "\u001b[1;32m~\\anaconda3\\lib\\site-packages\\pandas\\io\\parsers.py\u001b[0m in \u001b[0;36mread\u001b[1;34m(self, nrows)\u001b[0m\n\u001b[0;32m   2153\u001b[0m     \u001b[1;32mdef\u001b[0m \u001b[0mread\u001b[0m\u001b[1;33m(\u001b[0m\u001b[0mself\u001b[0m\u001b[1;33m,\u001b[0m \u001b[0mnrows\u001b[0m\u001b[1;33m=\u001b[0m\u001b[1;32mNone\u001b[0m\u001b[1;33m)\u001b[0m\u001b[1;33m:\u001b[0m\u001b[1;33m\u001b[0m\u001b[1;33m\u001b[0m\u001b[0m\n\u001b[0;32m   2154\u001b[0m         \u001b[1;32mtry\u001b[0m\u001b[1;33m:\u001b[0m\u001b[1;33m\u001b[0m\u001b[1;33m\u001b[0m\u001b[0m\n\u001b[1;32m-> 2155\u001b[1;33m             \u001b[0mdata\u001b[0m \u001b[1;33m=\u001b[0m \u001b[0mself\u001b[0m\u001b[1;33m.\u001b[0m\u001b[0m_reader\u001b[0m\u001b[1;33m.\u001b[0m\u001b[0mread\u001b[0m\u001b[1;33m(\u001b[0m\u001b[0mnrows\u001b[0m\u001b[1;33m)\u001b[0m\u001b[1;33m\u001b[0m\u001b[1;33m\u001b[0m\u001b[0m\n\u001b[0m\u001b[0;32m   2156\u001b[0m         \u001b[1;32mexcept\u001b[0m \u001b[0mStopIteration\u001b[0m\u001b[1;33m:\u001b[0m\u001b[1;33m\u001b[0m\u001b[1;33m\u001b[0m\u001b[0m\n\u001b[0;32m   2157\u001b[0m             \u001b[1;32mif\u001b[0m \u001b[0mself\u001b[0m\u001b[1;33m.\u001b[0m\u001b[0m_first_chunk\u001b[0m\u001b[1;33m:\u001b[0m\u001b[1;33m\u001b[0m\u001b[1;33m\u001b[0m\u001b[0m\n",
      "\u001b[1;32mpandas\\_libs\\parsers.pyx\u001b[0m in \u001b[0;36mpandas._libs.parsers.TextReader.read\u001b[1;34m()\u001b[0m\n",
      "\u001b[1;32mpandas\\_libs\\parsers.pyx\u001b[0m in \u001b[0;36mpandas._libs.parsers.TextReader._read_low_memory\u001b[1;34m()\u001b[0m\n",
      "\u001b[1;32mpandas\\_libs\\parsers.pyx\u001b[0m in \u001b[0;36mpandas._libs.parsers.TextReader._read_rows\u001b[1;34m()\u001b[0m\n",
      "\u001b[1;32mpandas\\_libs\\parsers.pyx\u001b[0m in \u001b[0;36mpandas._libs.parsers.TextReader._tokenize_rows\u001b[1;34m()\u001b[0m\n",
      "\u001b[1;32mpandas\\_libs\\parsers.pyx\u001b[0m in \u001b[0;36mpandas._libs.parsers.raise_parser_error\u001b[1;34m()\u001b[0m\n",
      "\u001b[1;31mParserError\u001b[0m: Error tokenizing data. C error: Expected 1 fields in line 5, saw 2\n"
     ]
    }
   ],
   "source": [
    "df_country = pd.read_csv(r'C:\\Users\\Johnny\\Documents\\Chase Datathon\\FFG_Hackathon_Country_Level_Data.csv')\r\n",
    "df_region = pd.read_csv(r'C:\\Users\\Johnny\\Documents\\Chase Datathon\\FFG_Hackathon_Region_Level_Data.csv')\r\n",
    "df_meta = pd.read_csv(r'C:\\Users\\Johnny\\Documents\\Chase Datathon\\FFG_Hackathon_Metadata.xlsx')"
   ]
  },
  {
   "cell_type": "code",
   "execution_count": 7,
   "metadata": {},
   "outputs": [
    {
     "data": {
      "text/html": "<div>\n<style scoped>\n    .dataframe tbody tr th:only-of-type {\n        vertical-align: middle;\n    }\n\n    .dataframe tbody tr th {\n        vertical-align: top;\n    }\n\n    .dataframe thead th {\n        text-align: right;\n    }\n</style>\n<table border=\"1\" class=\"dataframe\">\n  <thead>\n    <tr style=\"text-align: right;\">\n      <th></th>\n      <th>Year</th>\n      <th>Country Name</th>\n      <th>Country Code</th>\n      <th>AG.LND.AGRI.K2</th>\n      <th>AG.LND.TOTL.K2</th>\n      <th>AG.SRF.TOTL.K2</th>\n      <th>EG.ELC.COAL.ZS</th>\n      <th>EG.ELC.FOSL.ZS</th>\n      <th>EG.ELC.HYRO.ZS</th>\n      <th>EG.ELC.NGAS.ZS</th>\n      <th>...</th>\n      <th>EN.ATM.CO2E.SF.ZS</th>\n      <th>EN.CO2.BLDG.ZS</th>\n      <th>EN.CO2.ETOT.ZS</th>\n      <th>EN.CO2.MANF.ZS</th>\n      <th>EN.CO2.OTHX.ZS</th>\n      <th>EN.CO2.TRAN.ZS</th>\n      <th>EN.POP.DNST</th>\n      <th>NY.GDP.TOTL.RT.ZS</th>\n      <th>SP.RUR.TOTL</th>\n      <th>SP.URB.TOTL</th>\n    </tr>\n  </thead>\n  <tbody>\n    <tr>\n      <th>0</th>\n      <td>2007</td>\n      <td>Albania</td>\n      <td>ALB</td>\n      <td>11190.00</td>\n      <td>27400.0</td>\n      <td>28750.0</td>\n      <td>0.000000</td>\n      <td>2.517483</td>\n      <td>97.482517</td>\n      <td>0.000000</td>\n      <td>...</td>\n      <td>1.867414</td>\n      <td>7.407407</td>\n      <td>8.730159</td>\n      <td>16.931217</td>\n      <td>11.640212</td>\n      <td>55.555556</td>\n      <td>108.394781</td>\n      <td>1.761086</td>\n      <td>1517619.0</td>\n      <td>1452398.0</td>\n    </tr>\n    <tr>\n      <th>1</th>\n      <td>2007</td>\n      <td>Algeria</td>\n      <td>DZA</td>\n      <td>412520.00</td>\n      <td>2381740.0</td>\n      <td>2381740.0</td>\n      <td>0.000000</td>\n      <td>99.392408</td>\n      <td>0.607592</td>\n      <td>97.257770</td>\n      <td>...</td>\n      <td>2.755153</td>\n      <td>16.028285</td>\n      <td>40.011785</td>\n      <td>11.455510</td>\n      <td>0.000000</td>\n      <td>32.516205</td>\n      <td>14.345383</td>\n      <td>32.464934</td>\n      <td>11839539.0</td>\n      <td>22327433.0</td>\n    </tr>\n    <tr>\n      <th>2</th>\n      <td>2007</td>\n      <td>Angola</td>\n      <td>AGO</td>\n      <td>508468.17</td>\n      <td>1246700.0</td>\n      <td>1246700.0</td>\n      <td>0.000000</td>\n      <td>22.381100</td>\n      <td>77.618900</td>\n      <td>0.000000</td>\n      <td>...</td>\n      <td>0.000000</td>\n      <td>23.858921</td>\n      <td>12.344398</td>\n      <td>23.547718</td>\n      <td>0.311203</td>\n      <td>40.041494</td>\n      <td>16.768559</td>\n      <td>46.279012</td>\n      <td>8879762.0</td>\n      <td>12025601.0</td>\n    </tr>\n    <tr>\n      <th>3</th>\n      <td>2007</td>\n      <td>Argentina</td>\n      <td>ARG</td>\n      <td>1440330.00</td>\n      <td>2736690.0</td>\n      <td>2780400.0</td>\n      <td>2.179398</td>\n      <td>63.438998</td>\n      <td>28.270726</td>\n      <td>51.046874</td>\n      <td>...</td>\n      <td>2.091227</td>\n      <td>14.616174</td>\n      <td>33.816513</td>\n      <td>20.510962</td>\n      <td>5.405569</td>\n      <td>25.644742</td>\n      <td>14.500837</td>\n      <td>4.995813</td>\n      <td>3823185.0</td>\n      <td>35861110.0</td>\n    </tr>\n    <tr>\n      <th>4</th>\n      <td>2007</td>\n      <td>Armenia</td>\n      <td>ARM</td>\n      <td>17519.00</td>\n      <td>28470.0</td>\n      <td>29740.0</td>\n      <td>0.000000</td>\n      <td>25.245846</td>\n      <td>31.417430</td>\n      <td>25.245846</td>\n      <td>...</td>\n      <td>0.145033</td>\n      <td>22.291667</td>\n      <td>22.500000</td>\n      <td>24.375000</td>\n      <td>8.750000</td>\n      <td>22.083333</td>\n      <td>103.007306</td>\n      <td>0.009296</td>\n      <td>1063397.0</td>\n      <td>1869221.0</td>\n    </tr>\n    <tr>\n      <th>...</th>\n      <td>...</td>\n      <td>...</td>\n      <td>...</td>\n      <td>...</td>\n      <td>...</td>\n      <td>...</td>\n      <td>...</td>\n      <td>...</td>\n      <td>...</td>\n      <td>...</td>\n      <td>...</td>\n      <td>...</td>\n      <td>...</td>\n      <td>...</td>\n      <td>...</td>\n      <td>...</td>\n      <td>...</td>\n      <td>...</td>\n      <td>...</td>\n      <td>...</td>\n      <td>...</td>\n    </tr>\n    <tr>\n      <th>1305</th>\n      <td>2016</td>\n      <td>Venezuela, RB</td>\n      <td>VEN</td>\n      <td>215000.00</td>\n      <td>882050.0</td>\n      <td>912050.0</td>\n      <td>NaN</td>\n      <td>NaN</td>\n      <td>NaN</td>\n      <td>NaN</td>\n      <td>...</td>\n      <td>0.285899</td>\n      <td>NaN</td>\n      <td>NaN</td>\n      <td>NaN</td>\n      <td>NaN</td>\n      <td>NaN</td>\n      <td>33.837287</td>\n      <td>NaN</td>\n      <td>3532295.0</td>\n      <td>26313884.0</td>\n    </tr>\n    <tr>\n      <th>1306</th>\n      <td>2016</td>\n      <td>Vietnam</td>\n      <td>VNM</td>\n      <td>121722.00</td>\n      <td>310070.0</td>\n      <td>331230.0</td>\n      <td>NaN</td>\n      <td>NaN</td>\n      <td>NaN</td>\n      <td>NaN</td>\n      <td>...</td>\n      <td>42.138520</td>\n      <td>NaN</td>\n      <td>NaN</td>\n      <td>NaN</td>\n      <td>NaN</td>\n      <td>NaN</td>\n      <td>301.992208</td>\n      <td>3.355316</td>\n      <td>61324000.0</td>\n      <td>32314724.0</td>\n    </tr>\n    <tr>\n      <th>1307</th>\n      <td>2016</td>\n      <td>Yemen, Rep.</td>\n      <td>YEM</td>\n      <td>233858.00</td>\n      <td>527970.0</td>\n      <td>527970.0</td>\n      <td>NaN</td>\n      <td>NaN</td>\n      <td>NaN</td>\n      <td>NaN</td>\n      <td>...</td>\n      <td>3.041825</td>\n      <td>NaN</td>\n      <td>NaN</td>\n      <td>NaN</td>\n      <td>NaN</td>\n      <td>NaN</td>\n      <td>51.457867</td>\n      <td>0.797530</td>\n      <td>17552294.0</td>\n      <td>9615916.0</td>\n    </tr>\n    <tr>\n      <th>1308</th>\n      <td>2016</td>\n      <td>Zambia</td>\n      <td>ZMB</td>\n      <td>238360.00</td>\n      <td>743390.0</td>\n      <td>752610.0</td>\n      <td>NaN</td>\n      <td>NaN</td>\n      <td>NaN</td>\n      <td>NaN</td>\n      <td>...</td>\n      <td>16.619116</td>\n      <td>NaN</td>\n      <td>NaN</td>\n      <td>NaN</td>\n      <td>NaN</td>\n      <td>NaN</td>\n      <td>22.012009</td>\n      <td>11.680386</td>\n      <td>9419162.0</td>\n      <td>6944345.0</td>\n    </tr>\n    <tr>\n      <th>1309</th>\n      <td>2016</td>\n      <td>Zimbabwe</td>\n      <td>ZWE</td>\n      <td>162000.00</td>\n      <td>386850.0</td>\n      <td>390760.0</td>\n      <td>NaN</td>\n      <td>NaN</td>\n      <td>NaN</td>\n      <td>NaN</td>\n      <td>...</td>\n      <td>64.373957</td>\n      <td>NaN</td>\n      <td>NaN</td>\n      <td>NaN</td>\n      <td>NaN</td>\n      <td>NaN</td>\n      <td>36.268295</td>\n      <td>4.473632</td>\n      <td>9499135.0</td>\n      <td>4531255.0</td>\n    </tr>\n  </tbody>\n</table>\n<p>1310 rows × 38 columns</p>\n</div>",
      "text/plain": "      Year   Country Name Country Code  AG.LND.AGRI.K2  AG.LND.TOTL.K2  \\\n0     2007        Albania          ALB        11190.00         27400.0   \n1     2007        Algeria          DZA       412520.00       2381740.0   \n2     2007         Angola          AGO       508468.17       1246700.0   \n3     2007      Argentina          ARG      1440330.00       2736690.0   \n4     2007        Armenia          ARM        17519.00         28470.0   \n...    ...            ...          ...             ...             ...   \n1305  2016  Venezuela, RB          VEN       215000.00        882050.0   \n1306  2016        Vietnam          VNM       121722.00        310070.0   \n1307  2016    Yemen, Rep.          YEM       233858.00        527970.0   \n1308  2016         Zambia          ZMB       238360.00        743390.0   \n1309  2016       Zimbabwe          ZWE       162000.00        386850.0   \n\n      AG.SRF.TOTL.K2  EG.ELC.COAL.ZS  EG.ELC.FOSL.ZS  EG.ELC.HYRO.ZS  \\\n0            28750.0        0.000000        2.517483       97.482517   \n1          2381740.0        0.000000       99.392408        0.607592   \n2          1246700.0        0.000000       22.381100       77.618900   \n3          2780400.0        2.179398       63.438998       28.270726   \n4            29740.0        0.000000       25.245846       31.417430   \n...              ...             ...             ...             ...   \n1305        912050.0             NaN             NaN             NaN   \n1306        331230.0             NaN             NaN             NaN   \n1307        527970.0             NaN             NaN             NaN   \n1308        752610.0             NaN             NaN             NaN   \n1309        390760.0             NaN             NaN             NaN   \n\n      EG.ELC.NGAS.ZS  ...  EN.ATM.CO2E.SF.ZS  EN.CO2.BLDG.ZS  EN.CO2.ETOT.ZS  \\\n0           0.000000  ...           1.867414        7.407407        8.730159   \n1          97.257770  ...           2.755153       16.028285       40.011785   \n2           0.000000  ...           0.000000       23.858921       12.344398   \n3          51.046874  ...           2.091227       14.616174       33.816513   \n4          25.245846  ...           0.145033       22.291667       22.500000   \n...              ...  ...                ...             ...             ...   \n1305             NaN  ...           0.285899             NaN             NaN   \n1306             NaN  ...          42.138520             NaN             NaN   \n1307             NaN  ...           3.041825             NaN             NaN   \n1308             NaN  ...          16.619116             NaN             NaN   \n1309             NaN  ...          64.373957             NaN             NaN   \n\n      EN.CO2.MANF.ZS  EN.CO2.OTHX.ZS  EN.CO2.TRAN.ZS  EN.POP.DNST  \\\n0          16.931217       11.640212       55.555556   108.394781   \n1          11.455510        0.000000       32.516205    14.345383   \n2          23.547718        0.311203       40.041494    16.768559   \n3          20.510962        5.405569       25.644742    14.500837   \n4          24.375000        8.750000       22.083333   103.007306   \n...              ...             ...             ...          ...   \n1305             NaN             NaN             NaN    33.837287   \n1306             NaN             NaN             NaN   301.992208   \n1307             NaN             NaN             NaN    51.457867   \n1308             NaN             NaN             NaN    22.012009   \n1309             NaN             NaN             NaN    36.268295   \n\n      NY.GDP.TOTL.RT.ZS  SP.RUR.TOTL  SP.URB.TOTL  \n0              1.761086    1517619.0    1452398.0  \n1             32.464934   11839539.0   22327433.0  \n2             46.279012    8879762.0   12025601.0  \n3              4.995813    3823185.0   35861110.0  \n4              0.009296    1063397.0    1869221.0  \n...                 ...          ...          ...  \n1305                NaN    3532295.0   26313884.0  \n1306           3.355316   61324000.0   32314724.0  \n1307           0.797530   17552294.0    9615916.0  \n1308          11.680386    9419162.0    6944345.0  \n1309           4.473632    9499135.0    4531255.0  \n\n[1310 rows x 38 columns]"
     },
     "execution_count": 7,
     "metadata": {},
     "output_type": "execute_result"
    }
   ],
   "source": [
    "df_country"
   ]
  },
  {
   "cell_type": "code",
   "execution_count": 12,
   "metadata": {},
   "outputs": [
    {
     "name": "stdout",
     "output_type": "stream",
     "text": [
      "Missing Data\n",
      "Year                   0\n",
      "Country Name           0\n",
      "Country Code           0\n",
      "AG.LND.AGRI.K2         4\n",
      "AG.LND.TOTL.K2         4\n",
      "AG.SRF.TOTL.K2         4\n",
      "EG.ELC.COAL.ZS       130\n",
      "EG.ELC.FOSL.ZS       131\n",
      "EG.ELC.HYRO.ZS       130\n",
      "EG.ELC.NGAS.ZS       130\n",
      "EG.ELC.NUCL.ZS       228\n",
      "EG.ELC.PETR.ZS       130\n",
      "EG.ELC.RNEW.ZS       130\n",
      "EG.ELC.RNWX.KH       131\n",
      "EG.ELC.RNWX.ZS       130\n",
      "EG.FEC.RNEW.ZS       131\n",
      "EG.GDP.PUSE.KO.PP    247\n",
      "EG.USE.COMM.CL.ZS    234\n",
      "EG.USE.COMM.FO.ZS    255\n",
      "EG.USE.ELEC.KH.PC    260\n",
      "EN.ATM.CO2E.GF.KT      4\n",
      "EN.ATM.CO2E.GF.ZS      4\n",
      "EN.ATM.CO2E.KT         4\n",
      "EN.ATM.CO2E.LF.KT      4\n",
      "EN.ATM.CO2E.LF.ZS      4\n",
      "EN.ATM.CO2E.PC         4\n",
      "EN.ATM.CO2E.PP.GD     27\n",
      "EN.ATM.CO2E.SF.KT      4\n",
      "EN.ATM.CO2E.SF.ZS      4\n",
      "EN.CO2.BLDG.ZS       262\n",
      "EN.CO2.ETOT.ZS       262\n",
      "EN.CO2.MANF.ZS       262\n",
      "EN.CO2.OTHX.ZS       262\n",
      "EN.CO2.TRAN.ZS       262\n",
      "EN.POP.DNST            4\n",
      "NY.GDP.TOTL.RT.ZS      7\n",
      "SP.RUR.TOTL            5\n",
      "SP.URB.TOTL            5\n",
      "dtype: int64\n",
      "Percentage of missing Data\n",
      "Year                 0.000000\n",
      "Country Name         0.000000\n",
      "Country Code         0.000000\n",
      "AG.LND.AGRI.K2       0.003053\n",
      "AG.LND.TOTL.K2       0.003053\n",
      "AG.SRF.TOTL.K2       0.003053\n",
      "EG.ELC.COAL.ZS       0.099237\n",
      "EG.ELC.FOSL.ZS       0.100000\n",
      "EG.ELC.HYRO.ZS       0.099237\n",
      "EG.ELC.NGAS.ZS       0.099237\n",
      "EG.ELC.NUCL.ZS       0.174046\n",
      "EG.ELC.PETR.ZS       0.099237\n",
      "EG.ELC.RNEW.ZS       0.099237\n",
      "EG.ELC.RNWX.KH       0.100000\n",
      "EG.ELC.RNWX.ZS       0.099237\n",
      "EG.FEC.RNEW.ZS       0.100000\n",
      "EG.GDP.PUSE.KO.PP    0.188550\n",
      "EG.USE.COMM.CL.ZS    0.178626\n",
      "EG.USE.COMM.FO.ZS    0.194656\n",
      "EG.USE.ELEC.KH.PC    0.198473\n",
      "EN.ATM.CO2E.GF.KT    0.003053\n",
      "EN.ATM.CO2E.GF.ZS    0.003053\n",
      "EN.ATM.CO2E.KT       0.003053\n",
      "EN.ATM.CO2E.LF.KT    0.003053\n",
      "EN.ATM.CO2E.LF.ZS    0.003053\n",
      "EN.ATM.CO2E.PC       0.003053\n",
      "EN.ATM.CO2E.PP.GD    0.020611\n",
      "EN.ATM.CO2E.SF.KT    0.003053\n",
      "EN.ATM.CO2E.SF.ZS    0.003053\n",
      "EN.CO2.BLDG.ZS       0.200000\n",
      "EN.CO2.ETOT.ZS       0.200000\n",
      "EN.CO2.MANF.ZS       0.200000\n",
      "EN.CO2.OTHX.ZS       0.200000\n",
      "EN.CO2.TRAN.ZS       0.200000\n",
      "EN.POP.DNST          0.003053\n",
      "NY.GDP.TOTL.RT.ZS    0.005344\n",
      "SP.RUR.TOTL          0.003817\n",
      "SP.URB.TOTL          0.003817\n",
      "dtype: float64\n"
     ]
    }
   ],
   "source": [
    "print('Missing Data')\r\n",
    "print(df_country.isna().sum())\r\n",
    "print('Percentage of missing Data')\r\n",
    "print(df_country.isna().sum() / len(df_country))\r\n"
   ]
  },
  {
   "cell_type": "code",
   "execution_count": 8,
   "metadata": {},
   "outputs": [
    {
     "data": {
      "text/html": "<div>\n<style scoped>\n    .dataframe tbody tr th:only-of-type {\n        vertical-align: middle;\n    }\n\n    .dataframe tbody tr th {\n        vertical-align: top;\n    }\n\n    .dataframe thead th {\n        text-align: right;\n    }\n</style>\n<table border=\"1\" class=\"dataframe\">\n  <thead>\n    <tr style=\"text-align: right;\">\n      <th></th>\n      <th>Year</th>\n      <th>Region Name</th>\n      <th>Region Code</th>\n      <th>AG.LND.AGRI.K2</th>\n      <th>AG.LND.TOTL.K2</th>\n      <th>AG.SRF.TOTL.K2</th>\n      <th>EG.ELC.COAL.ZS</th>\n      <th>EG.ELC.FOSL.ZS</th>\n      <th>EG.ELC.HYRO.ZS</th>\n      <th>EG.ELC.NGAS.ZS</th>\n      <th>...</th>\n      <th>EN.ATM.CO2E.SF.ZS</th>\n      <th>EN.CO2.BLDG.ZS</th>\n      <th>EN.CO2.ETOT.ZS</th>\n      <th>EN.CO2.MANF.ZS</th>\n      <th>EN.CO2.OTHX.ZS</th>\n      <th>EN.CO2.TRAN.ZS</th>\n      <th>EN.POP.DNST</th>\n      <th>NY.GDP.TOTL.RT.ZS</th>\n      <th>SP.RUR.TOTL</th>\n      <th>SP.URB.TOTL</th>\n    </tr>\n  </thead>\n  <tbody>\n    <tr>\n      <th>0</th>\n      <td>2007</td>\n      <td>Arab World</td>\n      <td>ARB</td>\n      <td>4.100190e+06</td>\n      <td>1.123533e+07</td>\n      <td>1.129105e+07</td>\n      <td>1.762740</td>\n      <td>89.984788</td>\n      <td>3.963724</td>\n      <td>61.248601</td>\n      <td>...</td>\n      <td>1.620960</td>\n      <td>5.650951</td>\n      <td>46.898082</td>\n      <td>20.719009</td>\n      <td>1.564072</td>\n      <td>25.168746</td>\n      <td>29.397506</td>\n      <td>33.493019</td>\n      <td>148138437</td>\n      <td>182152279</td>\n    </tr>\n    <tr>\n      <th>1</th>\n      <td>2007</td>\n      <td>Central Europe and the Baltics</td>\n      <td>CEB</td>\n      <td>5.335050e+05</td>\n      <td>1.103146e+06</td>\n      <td>1.134949e+06</td>\n      <td>56.834086</td>\n      <td>68.004595</td>\n      <td>8.193398</td>\n      <td>9.389400</td>\n      <td>...</td>\n      <td>54.898725</td>\n      <td>12.008253</td>\n      <td>54.620856</td>\n      <td>14.253523</td>\n      <td>2.264274</td>\n      <td>16.850379</td>\n      <td>95.525658</td>\n      <td>1.040325</td>\n      <td>40210586</td>\n      <td>65168162</td>\n    </tr>\n    <tr>\n      <th>2</th>\n      <td>2007</td>\n      <td>Early-demographic dividend</td>\n      <td>EAR</td>\n      <td>1.358708e+07</td>\n      <td>3.323806e+07</td>\n      <td>3.413897e+07</td>\n      <td>32.421922</td>\n      <td>77.757311</td>\n      <td>17.324979</td>\n      <td>32.495198</td>\n      <td>...</td>\n      <td>31.617409</td>\n      <td>10.535275</td>\n      <td>46.186588</td>\n      <td>19.464848</td>\n      <td>3.102839</td>\n      <td>20.709016</td>\n      <td>83.546457</td>\n      <td>11.420924</td>\n      <td>1642568366</td>\n      <td>1134354137</td>\n    </tr>\n    <tr>\n      <th>3</th>\n      <td>2007</td>\n      <td>East Asia &amp; Pacific</td>\n      <td>EAS</td>\n      <td>1.186039e+07</td>\n      <td>2.442331e+07</td>\n      <td>2.486194e+07</td>\n      <td>60.577680</td>\n      <td>77.822184</td>\n      <td>11.254810</td>\n      <td>12.818944</td>\n      <td>...</td>\n      <td>62.028463</td>\n      <td>6.692401</td>\n      <td>51.070526</td>\n      <td>28.415529</td>\n      <td>2.080749</td>\n      <td>11.740694</td>\n      <td>88.513195</td>\n      <td>3.139450</td>\n      <td>1105876303</td>\n      <td>1055909270</td>\n    </tr>\n    <tr>\n      <th>4</th>\n      <td>2007</td>\n      <td>East Asia &amp; Pacific (IDA &amp; IBRD countries)</td>\n      <td>TEA</td>\n      <td>7.659722e+06</td>\n      <td>1.583028e+07</td>\n      <td>1.618747e+07</td>\n      <td>73.755915</td>\n      <td>82.808673</td>\n      <td>14.320835</td>\n      <td>6.924162</td>\n      <td>...</td>\n      <td>68.219112</td>\n      <td>6.129646</td>\n      <td>50.190863</td>\n      <td>31.844113</td>\n      <td>2.335515</td>\n      <td>9.499457</td>\n      <td>120.010545</td>\n      <td>6.815940</td>\n      <td>1061903356</td>\n      <td>837897174</td>\n    </tr>\n    <tr>\n      <th>...</th>\n      <td>...</td>\n      <td>...</td>\n      <td>...</td>\n      <td>...</td>\n      <td>...</td>\n      <td>...</td>\n      <td>...</td>\n      <td>...</td>\n      <td>...</td>\n      <td>...</td>\n      <td>...</td>\n      <td>...</td>\n      <td>...</td>\n      <td>...</td>\n      <td>...</td>\n      <td>...</td>\n      <td>...</td>\n      <td>...</td>\n      <td>...</td>\n      <td>...</td>\n      <td>...</td>\n    </tr>\n    <tr>\n      <th>375</th>\n      <td>2016</td>\n      <td>Sub-Saharan Africa</td>\n      <td>SSF</td>\n      <td>1.012424e+07</td>\n      <td>2.385285e+07</td>\n      <td>2.428743e+07</td>\n      <td>NaN</td>\n      <td>NaN</td>\n      <td>NaN</td>\n      <td>NaN</td>\n      <td>...</td>\n      <td>49.865479</td>\n      <td>NaN</td>\n      <td>NaN</td>\n      <td>NaN</td>\n      <td>NaN</td>\n      <td>NaN</td>\n      <td>42.868274</td>\n      <td>6.648397</td>\n      <td>622554759</td>\n      <td>399975777</td>\n    </tr>\n    <tr>\n      <th>376</th>\n      <td>2016</td>\n      <td>Sub-Saharan Africa (IDA &amp; IBRD countries)</td>\n      <td>TSS</td>\n      <td>1.012424e+07</td>\n      <td>2.385285e+07</td>\n      <td>2.428743e+07</td>\n      <td>NaN</td>\n      <td>NaN</td>\n      <td>NaN</td>\n      <td>NaN</td>\n      <td>...</td>\n      <td>49.865479</td>\n      <td>NaN</td>\n      <td>NaN</td>\n      <td>NaN</td>\n      <td>NaN</td>\n      <td>NaN</td>\n      <td>42.868274</td>\n      <td>6.648397</td>\n      <td>622554759</td>\n      <td>399975777</td>\n    </tr>\n    <tr>\n      <th>377</th>\n      <td>2016</td>\n      <td>Sub-Saharan Africa (excluding high income)</td>\n      <td>SSA</td>\n      <td>1.012336e+07</td>\n      <td>2.385036e+07</td>\n      <td>2.428493e+07</td>\n      <td>NaN</td>\n      <td>NaN</td>\n      <td>NaN</td>\n      <td>NaN</td>\n      <td>...</td>\n      <td>49.955114</td>\n      <td>NaN</td>\n      <td>NaN</td>\n      <td>NaN</td>\n      <td>NaN</td>\n      <td>NaN</td>\n      <td>42.815805</td>\n      <td>6.708353</td>\n      <td>621766355</td>\n      <td>399406031</td>\n    </tr>\n    <tr>\n      <th>378</th>\n      <td>2016</td>\n      <td>Upper middle income</td>\n      <td>UMC</td>\n      <td>2.013723e+07</td>\n      <td>5.765352e+07</td>\n      <td>5.915601e+07</td>\n      <td>NaN</td>\n      <td>NaN</td>\n      <td>NaN</td>\n      <td>NaN</td>\n      <td>...</td>\n      <td>51.813769</td>\n      <td>NaN</td>\n      <td>NaN</td>\n      <td>NaN</td>\n      <td>NaN</td>\n      <td>NaN</td>\n      <td>48.493815</td>\n      <td>2.537366</td>\n      <td>1006873632</td>\n      <td>1787188074</td>\n    </tr>\n    <tr>\n      <th>379</th>\n      <td>2016</td>\n      <td>World</td>\n      <td>WLD</td>\n      <td>4.769147e+07</td>\n      <td>1.299566e+08</td>\n      <td>1.345497e+08</td>\n      <td>NaN</td>\n      <td>NaN</td>\n      <td>NaN</td>\n      <td>NaN</td>\n      <td>...</td>\n      <td>42.086801</td>\n      <td>NaN</td>\n      <td>NaN</td>\n      <td>NaN</td>\n      <td>NaN</td>\n      <td>NaN</td>\n      <td>57.129142</td>\n      <td>1.503752</td>\n      <td>3386857553</td>\n      <td>4035639869</td>\n    </tr>\n  </tbody>\n</table>\n<p>380 rows × 38 columns</p>\n</div>",
      "text/plain": "     Year                                 Region Name Region Code  \\\n0    2007                                  Arab World         ARB   \n1    2007              Central Europe and the Baltics         CEB   \n2    2007                  Early-demographic dividend         EAR   \n3    2007                         East Asia & Pacific         EAS   \n4    2007  East Asia & Pacific (IDA & IBRD countries)         TEA   \n..    ...                                         ...         ...   \n375  2016                          Sub-Saharan Africa         SSF   \n376  2016   Sub-Saharan Africa (IDA & IBRD countries)         TSS   \n377  2016  Sub-Saharan Africa (excluding high income)         SSA   \n378  2016                         Upper middle income         UMC   \n379  2016                                       World         WLD   \n\n     AG.LND.AGRI.K2  AG.LND.TOTL.K2  AG.SRF.TOTL.K2  EG.ELC.COAL.ZS  \\\n0      4.100190e+06    1.123533e+07    1.129105e+07        1.762740   \n1      5.335050e+05    1.103146e+06    1.134949e+06       56.834086   \n2      1.358708e+07    3.323806e+07    3.413897e+07       32.421922   \n3      1.186039e+07    2.442331e+07    2.486194e+07       60.577680   \n4      7.659722e+06    1.583028e+07    1.618747e+07       73.755915   \n..              ...             ...             ...             ...   \n375    1.012424e+07    2.385285e+07    2.428743e+07             NaN   \n376    1.012424e+07    2.385285e+07    2.428743e+07             NaN   \n377    1.012336e+07    2.385036e+07    2.428493e+07             NaN   \n378    2.013723e+07    5.765352e+07    5.915601e+07             NaN   \n379    4.769147e+07    1.299566e+08    1.345497e+08             NaN   \n\n     EG.ELC.FOSL.ZS  EG.ELC.HYRO.ZS  EG.ELC.NGAS.ZS  ...  EN.ATM.CO2E.SF.ZS  \\\n0         89.984788        3.963724       61.248601  ...           1.620960   \n1         68.004595        8.193398        9.389400  ...          54.898725   \n2         77.757311       17.324979       32.495198  ...          31.617409   \n3         77.822184       11.254810       12.818944  ...          62.028463   \n4         82.808673       14.320835        6.924162  ...          68.219112   \n..              ...             ...             ...  ...                ...   \n375             NaN             NaN             NaN  ...          49.865479   \n376             NaN             NaN             NaN  ...          49.865479   \n377             NaN             NaN             NaN  ...          49.955114   \n378             NaN             NaN             NaN  ...          51.813769   \n379             NaN             NaN             NaN  ...          42.086801   \n\n     EN.CO2.BLDG.ZS  EN.CO2.ETOT.ZS  EN.CO2.MANF.ZS  EN.CO2.OTHX.ZS  \\\n0          5.650951       46.898082       20.719009        1.564072   \n1         12.008253       54.620856       14.253523        2.264274   \n2         10.535275       46.186588       19.464848        3.102839   \n3          6.692401       51.070526       28.415529        2.080749   \n4          6.129646       50.190863       31.844113        2.335515   \n..              ...             ...             ...             ...   \n375             NaN             NaN             NaN             NaN   \n376             NaN             NaN             NaN             NaN   \n377             NaN             NaN             NaN             NaN   \n378             NaN             NaN             NaN             NaN   \n379             NaN             NaN             NaN             NaN   \n\n     EN.CO2.TRAN.ZS  EN.POP.DNST  NY.GDP.TOTL.RT.ZS  SP.RUR.TOTL  SP.URB.TOTL  \n0         25.168746    29.397506          33.493019    148138437    182152279  \n1         16.850379    95.525658           1.040325     40210586     65168162  \n2         20.709016    83.546457          11.420924   1642568366   1134354137  \n3         11.740694    88.513195           3.139450   1105876303   1055909270  \n4          9.499457   120.010545           6.815940   1061903356    837897174  \n..              ...          ...                ...          ...          ...  \n375             NaN    42.868274           6.648397    622554759    399975777  \n376             NaN    42.868274           6.648397    622554759    399975777  \n377             NaN    42.815805           6.708353    621766355    399406031  \n378             NaN    48.493815           2.537366   1006873632   1787188074  \n379             NaN    57.129142           1.503752   3386857553   4035639869  \n\n[380 rows x 38 columns]"
     },
     "execution_count": 8,
     "metadata": {},
     "output_type": "execute_result"
    }
   ],
   "source": [
    "df_region"
   ]
  },
  {
   "cell_type": "code",
   "execution_count": 15,
   "metadata": {},
   "outputs": [
    {
     "name": "stdout",
     "output_type": "stream",
     "text": [
      "Missing Data\n",
      "Year                  0\n",
      "Region Name           0\n",
      "Region Code           0\n",
      "AG.LND.AGRI.K2        0\n",
      "AG.LND.TOTL.K2        0\n",
      "AG.SRF.TOTL.K2        0\n",
      "EG.ELC.COAL.ZS       38\n",
      "EG.ELC.FOSL.ZS       38\n",
      "EG.ELC.HYRO.ZS       38\n",
      "EG.ELC.NGAS.ZS       38\n",
      "EG.ELC.NUCL.ZS       53\n",
      "EG.ELC.PETR.ZS       38\n",
      "EG.ELC.RNEW.ZS       38\n",
      "EG.ELC.RNWX.KH       38\n",
      "EG.ELC.RNWX.ZS       38\n",
      "EG.FEC.RNEW.ZS       38\n",
      "EG.GDP.PUSE.KO.PP    70\n",
      "EG.USE.COMM.CL.ZS    53\n",
      "EG.USE.COMM.FO.ZS    53\n",
      "EG.USE.ELEC.KH.PC    76\n",
      "EN.ATM.CO2E.GF.KT     2\n",
      "EN.ATM.CO2E.GF.ZS     0\n",
      "EN.ATM.CO2E.KT        0\n",
      "EN.ATM.CO2E.LF.KT     2\n",
      "EN.ATM.CO2E.LF.ZS     0\n",
      "EN.ATM.CO2E.PC        0\n",
      "EN.ATM.CO2E.PP.GD     0\n",
      "EN.ATM.CO2E.SF.KT    61\n",
      "EN.ATM.CO2E.SF.ZS     0\n",
      "EN.CO2.BLDG.ZS       76\n",
      "EN.CO2.ETOT.ZS       76\n",
      "EN.CO2.MANF.ZS       76\n",
      "EN.CO2.OTHX.ZS       76\n",
      "EN.CO2.TRAN.ZS       76\n",
      "EN.POP.DNST           0\n",
      "NY.GDP.TOTL.RT.ZS     0\n",
      "SP.RUR.TOTL           0\n",
      "SP.URB.TOTL           0\n",
      "dtype: int64\n",
      "Percentage of missing Data\n",
      "Year                 0.000000\n",
      "Region Name          0.000000\n",
      "Region Code          0.000000\n",
      "AG.LND.AGRI.K2       0.000000\n",
      "AG.LND.TOTL.K2       0.000000\n",
      "AG.SRF.TOTL.K2       0.000000\n",
      "EG.ELC.COAL.ZS       0.100000\n",
      "EG.ELC.FOSL.ZS       0.100000\n",
      "EG.ELC.HYRO.ZS       0.100000\n",
      "EG.ELC.NGAS.ZS       0.100000\n",
      "EG.ELC.NUCL.ZS       0.139474\n",
      "EG.ELC.PETR.ZS       0.100000\n",
      "EG.ELC.RNEW.ZS       0.100000\n",
      "EG.ELC.RNWX.KH       0.100000\n",
      "EG.ELC.RNWX.ZS       0.100000\n",
      "EG.FEC.RNEW.ZS       0.100000\n",
      "EG.GDP.PUSE.KO.PP    0.184211\n",
      "EG.USE.COMM.CL.ZS    0.139474\n",
      "EG.USE.COMM.FO.ZS    0.139474\n",
      "EG.USE.ELEC.KH.PC    0.200000\n",
      "EN.ATM.CO2E.GF.KT    0.005263\n",
      "EN.ATM.CO2E.GF.ZS    0.000000\n",
      "EN.ATM.CO2E.KT       0.000000\n",
      "EN.ATM.CO2E.LF.KT    0.005263\n",
      "EN.ATM.CO2E.LF.ZS    0.000000\n",
      "EN.ATM.CO2E.PC       0.000000\n",
      "EN.ATM.CO2E.PP.GD    0.000000\n",
      "EN.ATM.CO2E.SF.KT    0.160526\n",
      "EN.ATM.CO2E.SF.ZS    0.000000\n",
      "EN.CO2.BLDG.ZS       0.200000\n",
      "EN.CO2.ETOT.ZS       0.200000\n",
      "EN.CO2.MANF.ZS       0.200000\n",
      "EN.CO2.OTHX.ZS       0.200000\n",
      "EN.CO2.TRAN.ZS       0.200000\n",
      "EN.POP.DNST          0.000000\n",
      "NY.GDP.TOTL.RT.ZS    0.000000\n",
      "SP.RUR.TOTL          0.000000\n",
      "SP.URB.TOTL          0.000000\n",
      "dtype: float64\n"
     ]
    }
   ],
   "source": [
    "print('Missing Data')\r\n",
    "print(df_region.isna().sum())\r\n",
    "print('Percentage of missing Data')\r\n",
    "print(df_region.isna().sum() / len(df_region))\r\n"
   ]
  }
 ],
 "metadata": {
  "kernelspec": {
   "display_name": "Python 3.8.5 64-bit ('base': conda)",
   "name": "python385jvsc74a57bd0af5b9358f624b7a10e69b5311cbd31159d36e52e31ed36b18bb11cfc0c99bfa2"
  },
  "language_info": {
   "codemirror_mode": {
    "name": "ipython",
    "version": 3
   },
   "file_extension": ".py",
   "mimetype": "text/x-python",
   "name": "python",
   "nbconvert_exporter": "python",
   "pygments_lexer": "ipython3",
   "version": "3.8.5"
  },
  "orig_nbformat": 2
 },
 "nbformat": 4,
 "nbformat_minor": 2
}