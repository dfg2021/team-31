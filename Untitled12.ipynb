{
  "nbformat": 4,
  "nbformat_minor": 0,
  "metadata": {
    "colab": {
      "name": "Untitled12.ipynb",
      "provenance": []
    },
    "kernelspec": {
      "name": "python3",
      "display_name": "Python 3"
    },
    "language_info": {
      "name": "python"
    }
  },
  "cells": [
    {
      "cell_type": "code",
      "metadata": {
        "colab": {
          "base_uri": "https://localhost:8080/"
        },
        "id": "PmnWPIT11xXN",
        "outputId": "468620be-ed53-46bf-b870-4f1173cd0789"
      },
      "source": [
        "!pip install wb"
      ],
      "execution_count": null,
      "outputs": [
        {
          "output_type": "stream",
          "text": [
            "Collecting wb\n",
            "\u001b[?25l  Downloading https://files.pythonhosted.org/packages/7b/f9/1b4a638c037d780e9c9e59f932b2ea4db238505bd0efd0ff09eb0690ca8e/WB-7.1.tar.gz (170kB)\n",
            "\u001b[K     |████████████████████████████████| 174kB 3.9MB/s \n",
            "\u001b[?25hBuilding wheels for collected packages: wb\n",
            "  Building wheel for wb (setup.py) ... \u001b[?25l\u001b[?25hdone\n",
            "  Created wheel for wb: filename=WB-7.1-cp37-none-any.whl size=23203 sha256=e053c3afcfc2624836cc42455f83249d189137dc0710b3f91717960096a4a414\n",
            "  Stored in directory: /root/.cache/pip/wheels/f4/e6/b6/5a92587237a8ef5f57f3f2132dd21fe5af6c40108760d89bc6\n",
            "Successfully built wb\n",
            "Installing collected packages: wb\n",
            "Successfully installed wb-7.1\n"
          ],
          "name": "stdout"
        }
      ]
    },
    {
      "cell_type": "code",
      "metadata": {
        "colab": {
          "resources": {
            "http://localhost:8080/nbextensions/google.colab/files.js": {
              "data": "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",
              "ok": true,
              "headers": [
                [
                  "content-type",
                  "application/javascript"
                ]
              ],
              "status": 200,
              "status_text": ""
            }
          },
          "base_uri": "https://localhost:8080/",
          "height": 72
        },
        "id": "32GniGEpUJyU",
        "outputId": "503a9685-1eeb-4b51-a26d-92e3ce4cd10e"
      },
      "source": [
        "from google.colab import files\n",
        "  \n",
        "  \n",
        "uploaded = files.upload()"
      ],
      "execution_count": null,
      "outputs": [
        {
          "output_type": "display_data",
          "data": {
            "text/html": [
              "\n",
              "     <input type=\"file\" id=\"files-ce5a5dda-bba4-4d9b-ac57-7ae5b2e94b97\" name=\"files[]\" multiple disabled\n",
              "        style=\"border:none\" />\n",
              "     <output id=\"result-ce5a5dda-bba4-4d9b-ac57-7ae5b2e94b97\">\n",
              "      Upload widget is only available when the cell has been executed in the\n",
              "      current browser session. Please rerun this cell to enable.\n",
              "      </output>\n",
              "      <script src=\"/nbextensions/google.colab/files.js\"></script> "
            ],
            "text/plain": [
              "<IPython.core.display.HTML object>"
            ]
          },
          "metadata": {
            "tags": []
          }
        },
        {
          "output_type": "stream",
          "text": [
            "Saving Count_Data.csv to Count_Data.csv\n"
          ],
          "name": "stdout"
        }
      ]
    },
    {
      "cell_type": "code",
      "metadata": {
        "colab": {
          "base_uri": "https://localhost:8080/"
        },
        "id": "Uz7UOrgxUWjP",
        "outputId": "3d17ad09-14eb-4ecd-f55a-4daf782adf65"
      },
      "source": [
        "df = pd.read_csv(io.BytesIO(uploaded['Count_Data.csv']))\n",
        "print(df)"
      ],
      "execution_count": null,
      "outputs": [
        {
          "output_type": "stream",
          "text": [
            "      Year   Country Name  ... SP.RUR.TOTL  SP.URB.TOTL\n",
            "0     2007        Albania  ...   1517619.0    1452398.0\n",
            "1     2007        Algeria  ...  11839539.0   22327433.0\n",
            "2     2007         Angola  ...   8879762.0   12025601.0\n",
            "3     2007      Argentina  ...   3823185.0   35861110.0\n",
            "4     2007        Armenia  ...   1063397.0    1869221.0\n",
            "...    ...            ...  ...         ...          ...\n",
            "1305  2016  Venezuela, RB  ...   3532295.0   26313884.0\n",
            "1306  2016        Vietnam  ...  61324000.0   32314724.0\n",
            "1307  2016    Yemen, Rep.  ...  17552294.0    9615916.0\n",
            "1308  2016         Zambia  ...   9419162.0    6944345.0\n",
            "1309  2016       Zimbabwe  ...   9499135.0    4531255.0\n",
            "\n",
            "[1310 rows x 38 columns]\n"
          ],
          "name": "stdout"
        }
      ]
    },
    {
      "cell_type": "code",
      "metadata": {
        "id": "p8q4L46GUfH7"
      },
      "source": [
        "Country_details = pd.read_csv('Count_Data.csv')"
      ],
      "execution_count": null,
      "outputs": []
    },
    {
      "cell_type": "code",
      "metadata": {
        "colab": {
          "base_uri": "https://localhost:8080/"
        },
        "id": "fjr28qFgUo42",
        "outputId": "d5312b37-7fda-4380-b06f-ddde359d2b2c"
      },
      "source": [
        "Country_details.shape"
      ],
      "execution_count": null,
      "outputs": [
        {
          "output_type": "execute_result",
          "data": {
            "text/plain": [
              "(1310, 38)"
            ]
          },
          "metadata": {
            "tags": []
          },
          "execution_count": 27
        }
      ]
    },
    {
      "cell_type": "code",
      "metadata": {
        "colab": {
          "base_uri": "https://localhost:8080/",
          "height": 317
        },
        "id": "xGOdmoqFUtXI",
        "outputId": "e2b78baf-2fcd-48f9-a188-9999387cea6d"
      },
      "source": [
        "Country_details.describe()"
      ],
      "execution_count": null,
      "outputs": [
        {
          "output_type": "execute_result",
          "data": {
            "text/html": [
              "<div>\n",
              "<style scoped>\n",
              "    .dataframe tbody tr th:only-of-type {\n",
              "        vertical-align: middle;\n",
              "    }\n",
              "\n",
              "    .dataframe tbody tr th {\n",
              "        vertical-align: top;\n",
              "    }\n",
              "\n",
              "    .dataframe thead th {\n",
              "        text-align: right;\n",
              "    }\n",
              "</style>\n",
              "<table border=\"1\" class=\"dataframe\">\n",
              "  <thead>\n",
              "    <tr style=\"text-align: right;\">\n",
              "      <th></th>\n",
              "      <th>Year</th>\n",
              "      <th>AG.LND.AGRI.K2</th>\n",
              "      <th>AG.LND.TOTL.K2</th>\n",
              "      <th>AG.SRF.TOTL.K2</th>\n",
              "      <th>EG.ELC.COAL.ZS</th>\n",
              "      <th>EG.ELC.FOSL.ZS</th>\n",
              "      <th>EG.ELC.HYRO.ZS</th>\n",
              "      <th>EG.ELC.NGAS.ZS</th>\n",
              "      <th>EG.ELC.NUCL.ZS</th>\n",
              "      <th>EG.ELC.PETR.ZS</th>\n",
              "      <th>EG.ELC.RNEW.ZS</th>\n",
              "      <th>EG.ELC.RNWX.KH</th>\n",
              "      <th>EG.ELC.RNWX.ZS</th>\n",
              "      <th>EG.FEC.RNEW.ZS</th>\n",
              "      <th>EG.GDP.PUSE.KO.PP</th>\n",
              "      <th>EG.USE.COMM.CL.ZS</th>\n",
              "      <th>EG.USE.COMM.FO.ZS</th>\n",
              "      <th>EG.USE.ELEC.KH.PC</th>\n",
              "      <th>EN.ATM.CO2E.GF.KT</th>\n",
              "      <th>EN.ATM.CO2E.GF.ZS</th>\n",
              "      <th>EN.ATM.CO2E.KT</th>\n",
              "      <th>EN.ATM.CO2E.LF.KT</th>\n",
              "      <th>EN.ATM.CO2E.LF.ZS</th>\n",
              "      <th>EN.ATM.CO2E.PC</th>\n",
              "      <th>EN.ATM.CO2E.PP.GD</th>\n",
              "      <th>EN.ATM.CO2E.SF.KT</th>\n",
              "      <th>EN.ATM.CO2E.SF.ZS</th>\n",
              "      <th>EN.CO2.BLDG.ZS</th>\n",
              "      <th>EN.CO2.ETOT.ZS</th>\n",
              "      <th>EN.CO2.MANF.ZS</th>\n",
              "      <th>EN.CO2.OTHX.ZS</th>\n",
              "      <th>EN.CO2.TRAN.ZS</th>\n",
              "      <th>EN.POP.DNST</th>\n",
              "      <th>NY.GDP.TOTL.RT.ZS</th>\n",
              "      <th>SP.RUR.TOTL</th>\n",
              "      <th>SP.URB.TOTL</th>\n",
              "    </tr>\n",
              "  </thead>\n",
              "  <tbody>\n",
              "    <tr>\n",
              "      <th>count</th>\n",
              "      <td>1310.000000</td>\n",
              "      <td>1.306000e+03</td>\n",
              "      <td>1.306000e+03</td>\n",
              "      <td>1.306000e+03</td>\n",
              "      <td>1180.000000</td>\n",
              "      <td>1179.000000</td>\n",
              "      <td>1180.000000</td>\n",
              "      <td>1180.000000</td>\n",
              "      <td>1082.000000</td>\n",
              "      <td>1180.000000</td>\n",
              "      <td>1180.000000</td>\n",
              "      <td>1.179000e+03</td>\n",
              "      <td>1180.000000</td>\n",
              "      <td>1179.000000</td>\n",
              "      <td>1063.000000</td>\n",
              "      <td>1076.000000</td>\n",
              "      <td>1055.000000</td>\n",
              "      <td>1050.000000</td>\n",
              "      <td>1.306000e+03</td>\n",
              "      <td>1306.000000</td>\n",
              "      <td>1.306000e+03</td>\n",
              "      <td>1.306000e+03</td>\n",
              "      <td>1306.000000</td>\n",
              "      <td>1306.000000</td>\n",
              "      <td>1283.000000</td>\n",
              "      <td>1.306000e+03</td>\n",
              "      <td>1306.000000</td>\n",
              "      <td>1048.000000</td>\n",
              "      <td>1048.000000</td>\n",
              "      <td>1048.000000</td>\n",
              "      <td>1048.000000</td>\n",
              "      <td>1048.000000</td>\n",
              "      <td>1306.000000</td>\n",
              "      <td>1303.000000</td>\n",
              "      <td>1.305000e+03</td>\n",
              "      <td>1.305000e+03</td>\n",
              "    </tr>\n",
              "    <tr>\n",
              "      <th>mean</th>\n",
              "      <td>2011.500000</td>\n",
              "      <td>3.240532e+05</td>\n",
              "      <td>8.924498e+05</td>\n",
              "      <td>9.243044e+05</td>\n",
              "      <td>15.788291</td>\n",
              "      <td>58.646745</td>\n",
              "      <td>28.923210</td>\n",
              "      <td>27.285515</td>\n",
              "      <td>6.027380</td>\n",
              "      <td>15.597747</td>\n",
              "      <td>33.716792</td>\n",
              "      <td>7.371178e+09</td>\n",
              "      <td>4.793583</td>\n",
              "      <td>29.436565</td>\n",
              "      <td>9.199162</td>\n",
              "      <td>7.775639</td>\n",
              "      <td>67.135385</td>\n",
              "      <td>4249.745994</td>\n",
              "      <td>4.576385e+04</td>\n",
              "      <td>21.506207</td>\n",
              "      <td>2.351875e+05</td>\n",
              "      <td>7.308279e+04</td>\n",
              "      <td>52.864341</td>\n",
              "      <td>5.691392</td>\n",
              "      <td>0.261347</td>\n",
              "      <td>1.014841e+05</td>\n",
              "      <td>17.685991</td>\n",
              "      <td>9.203994</td>\n",
              "      <td>38.095613</td>\n",
              "      <td>15.629947</td>\n",
              "      <td>4.204693</td>\n",
              "      <td>32.871391</td>\n",
              "      <td>237.950559</td>\n",
              "      <td>7.857240</td>\n",
              "      <td>2.379115e+07</td>\n",
              "      <td>2.663238e+07</td>\n",
              "    </tr>\n",
              "    <tr>\n",
              "      <th>std</th>\n",
              "      <td>2.873378</td>\n",
              "      <td>7.597534e+05</td>\n",
              "      <td>2.181878e+06</td>\n",
              "      <td>2.280323e+06</td>\n",
              "      <td>24.090103</td>\n",
              "      <td>33.200671</td>\n",
              "      <td>31.799889</td>\n",
              "      <td>31.642154</td>\n",
              "      <td>14.561778</td>\n",
              "      <td>25.535116</td>\n",
              "      <td>32.249780</td>\n",
              "      <td>2.689519e+10</td>\n",
              "      <td>8.157570</td>\n",
              "      <td>27.604277</td>\n",
              "      <td>3.926287</td>\n",
              "      <td>10.420274</td>\n",
              "      <td>27.212481</td>\n",
              "      <td>6005.708611</td>\n",
              "      <td>1.443882e+05</td>\n",
              "      <td>22.047743</td>\n",
              "      <td>9.468427e+05</td>\n",
              "      <td>2.249144e+05</td>\n",
              "      <td>24.384160</td>\n",
              "      <td>6.829644</td>\n",
              "      <td>0.185611</td>\n",
              "      <td>6.163397e+05</td>\n",
              "      <td>21.472941</td>\n",
              "      <td>7.215945</td>\n",
              "      <td>18.768204</td>\n",
              "      <td>8.552919</td>\n",
              "      <td>8.385607</td>\n",
              "      <td>17.134369</td>\n",
              "      <td>878.254436</td>\n",
              "      <td>12.011618</td>\n",
              "      <td>9.529736e+07</td>\n",
              "      <td>7.496477e+07</td>\n",
              "    </tr>\n",
              "    <tr>\n",
              "      <th>min</th>\n",
              "      <td>2007.000000</td>\n",
              "      <td>6.600000e+00</td>\n",
              "      <td>6.950000e+02</td>\n",
              "      <td>7.050000e+02</td>\n",
              "      <td>0.000000</td>\n",
              "      <td>0.000000</td>\n",
              "      <td>0.000000</td>\n",
              "      <td>0.000000</td>\n",
              "      <td>0.000000</td>\n",
              "      <td>0.000000</td>\n",
              "      <td>0.000000</td>\n",
              "      <td>0.000000e+00</td>\n",
              "      <td>0.000000</td>\n",
              "      <td>0.000000</td>\n",
              "      <td>1.614946</td>\n",
              "      <td>0.000000</td>\n",
              "      <td>2.742569</td>\n",
              "      <td>23.738983</td>\n",
              "      <td>0.000000e+00</td>\n",
              "      <td>0.000000</td>\n",
              "      <td>4.070370e+02</td>\n",
              "      <td>3.850350e+02</td>\n",
              "      <td>2.418410</td>\n",
              "      <td>0.025645</td>\n",
              "      <td>0.026611</td>\n",
              "      <td>0.000000e+00</td>\n",
              "      <td>0.000000</td>\n",
              "      <td>0.000000</td>\n",
              "      <td>0.000000</td>\n",
              "      <td>0.000000</td>\n",
              "      <td>-2.325581</td>\n",
              "      <td>3.824969</td>\n",
              "      <td>1.669598</td>\n",
              "      <td>0.000000</td>\n",
              "      <td>0.000000e+00</td>\n",
              "      <td>2.770690e+05</td>\n",
              "    </tr>\n",
              "    <tr>\n",
              "      <th>25%</th>\n",
              "      <td>2009.000000</td>\n",
              "      <td>1.886650e+04</td>\n",
              "      <td>6.267425e+04</td>\n",
              "      <td>6.561000e+04</td>\n",
              "      <td>0.000000</td>\n",
              "      <td>31.917903</td>\n",
              "      <td>1.542217</td>\n",
              "      <td>0.040872</td>\n",
              "      <td>0.000000</td>\n",
              "      <td>0.398363</td>\n",
              "      <td>6.653167</td>\n",
              "      <td>0.000000e+00</td>\n",
              "      <td>0.000000</td>\n",
              "      <td>6.732277</td>\n",
              "      <td>6.524494</td>\n",
              "      <td>0.684459</td>\n",
              "      <td>48.446946</td>\n",
              "      <td>718.820741</td>\n",
              "      <td>7.334000e+01</td>\n",
              "      <td>1.603534</td>\n",
              "      <td>8.038064e+03</td>\n",
              "      <td>4.702927e+03</td>\n",
              "      <td>33.845400</td>\n",
              "      <td>1.131636</td>\n",
              "      <td>0.150067</td>\n",
              "      <td>1.100100e+01</td>\n",
              "      <td>0.071273</td>\n",
              "      <td>3.878497</td>\n",
              "      <td>26.630904</td>\n",
              "      <td>9.620445</td>\n",
              "      <td>0.603052</td>\n",
              "      <td>20.545000</td>\n",
              "      <td>30.320905</td>\n",
              "      <td>0.562569</td>\n",
              "      <td>1.235817e+06</td>\n",
              "      <td>2.821045e+06</td>\n",
              "    </tr>\n",
              "    <tr>\n",
              "      <th>50%</th>\n",
              "      <td>2011.500000</td>\n",
              "      <td>7.566000e+04</td>\n",
              "      <td>2.300250e+05</td>\n",
              "      <td>2.385400e+05</td>\n",
              "      <td>0.647842</td>\n",
              "      <td>63.472539</td>\n",
              "      <td>14.051431</td>\n",
              "      <td>15.135189</td>\n",
              "      <td>0.000000</td>\n",
              "      <td>2.186388</td>\n",
              "      <td>22.336896</td>\n",
              "      <td>1.680000e+08</td>\n",
              "      <td>1.161635</td>\n",
              "      <td>20.388996</td>\n",
              "      <td>8.944903</td>\n",
              "      <td>3.319359</td>\n",
              "      <td>74.637098</td>\n",
              "      <td>2298.469764</td>\n",
              "      <td>6.206398e+03</td>\n",
              "      <td>15.853834</td>\n",
              "      <td>3.455414e+04</td>\n",
              "      <td>1.397677e+04</td>\n",
              "      <td>50.887883</td>\n",
              "      <td>3.687732</td>\n",
              "      <td>0.220459</td>\n",
              "      <td>1.501637e+03</td>\n",
              "      <td>8.678818</td>\n",
              "      <td>7.747785</td>\n",
              "      <td>39.063517</td>\n",
              "      <td>14.248812</td>\n",
              "      <td>1.990073</td>\n",
              "      <td>29.665371</td>\n",
              "      <td>78.644245</td>\n",
              "      <td>2.293984</td>\n",
              "      <td>3.571323e+06</td>\n",
              "      <td>6.883211e+06</td>\n",
              "    </tr>\n",
              "    <tr>\n",
              "      <th>75%</th>\n",
              "      <td>2014.000000</td>\n",
              "      <td>2.592400e+05</td>\n",
              "      <td>6.534675e+05</td>\n",
              "      <td>6.765900e+05</td>\n",
              "      <td>25.122440</td>\n",
              "      <td>90.260312</td>\n",
              "      <td>53.361330</td>\n",
              "      <td>44.861056</td>\n",
              "      <td>0.000000</td>\n",
              "      <td>18.488943</td>\n",
              "      <td>58.907514</td>\n",
              "      <td>2.616500e+09</td>\n",
              "      <td>5.357742</td>\n",
              "      <td>46.663285</td>\n",
              "      <td>11.541066</td>\n",
              "      <td>11.347979</td>\n",
              "      <td>89.549602</td>\n",
              "      <td>5876.978691</td>\n",
              "      <td>4.076054e+04</td>\n",
              "      <td>32.664227</td>\n",
              "      <td>1.102465e+05</td>\n",
              "      <td>4.435328e+04</td>\n",
              "      <td>73.094935</td>\n",
              "      <td>7.527028</td>\n",
              "      <td>0.308180</td>\n",
              "      <td>1.910140e+04</td>\n",
              "      <td>28.878725</td>\n",
              "      <td>12.487644</td>\n",
              "      <td>51.461732</td>\n",
              "      <td>19.635451</td>\n",
              "      <td>4.546918</td>\n",
              "      <td>41.032053</td>\n",
              "      <td>136.267525</td>\n",
              "      <td>9.917018</td>\n",
              "      <td>1.356700e+07</td>\n",
              "      <td>2.149165e+07</td>\n",
              "    </tr>\n",
              "    <tr>\n",
              "      <th>max</th>\n",
              "      <td>2016.000000</td>\n",
              "      <td>5.290386e+06</td>\n",
              "      <td>1.637774e+07</td>\n",
              "      <td>1.709825e+07</td>\n",
              "      <td>100.000000</td>\n",
              "      <td>100.000000</td>\n",
              "      <td>100.000000</td>\n",
              "      <td>100.000000</td>\n",
              "      <td>79.511660</td>\n",
              "      <td>100.000000</td>\n",
              "      <td>100.000000</td>\n",
              "      <td>3.170000e+11</td>\n",
              "      <td>65.443742</td>\n",
              "      <td>97.171723</td>\n",
              "      <td>27.801111</td>\n",
              "      <td>55.576721</td>\n",
              "      <td>100.000000</td>\n",
              "      <td>54799.174710</td>\n",
              "      <td>1.498556e+06</td>\n",
              "      <td>93.163097</td>\n",
              "      <td>1.029193e+07</td>\n",
              "      <td>2.377235e+06</td>\n",
              "      <td>99.164003</td>\n",
              "      <td>51.933672</td>\n",
              "      <td>1.550748</td>\n",
              "      <td>7.499587e+06</td>\n",
              "      <td>91.275111</td>\n",
              "      <td>38.146315</td>\n",
              "      <td>85.783027</td>\n",
              "      <td>55.147059</td>\n",
              "      <td>86.956522</td>\n",
              "      <td>96.781116</td>\n",
              "      <td>7908.720733</td>\n",
              "      <td>64.501112</td>\n",
              "      <td>8.850108e+08</td>\n",
              "      <td>7.821994e+08</td>\n",
              "    </tr>\n",
              "  </tbody>\n",
              "</table>\n",
              "</div>"
            ],
            "text/plain": [
              "              Year  AG.LND.AGRI.K2  ...   SP.RUR.TOTL   SP.URB.TOTL\n",
              "count  1310.000000    1.306000e+03  ...  1.305000e+03  1.305000e+03\n",
              "mean   2011.500000    3.240532e+05  ...  2.379115e+07  2.663238e+07\n",
              "std       2.873378    7.597534e+05  ...  9.529736e+07  7.496477e+07\n",
              "min    2007.000000    6.600000e+00  ...  0.000000e+00  2.770690e+05\n",
              "25%    2009.000000    1.886650e+04  ...  1.235817e+06  2.821045e+06\n",
              "50%    2011.500000    7.566000e+04  ...  3.571323e+06  6.883211e+06\n",
              "75%    2014.000000    2.592400e+05  ...  1.356700e+07  2.149165e+07\n",
              "max    2016.000000    5.290386e+06  ...  8.850108e+08  7.821994e+08\n",
              "\n",
              "[8 rows x 36 columns]"
            ]
          },
          "metadata": {
            "tags": []
          },
          "execution_count": 30
        }
      ]
    },
    {
      "cell_type": "code",
      "metadata": {
        "colab": {
          "resources": {
            "http://localhost:8080/nbextensions/google.colab/files.js": {
              "data": "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",
              "ok": true,
              "headers": [
                [
                  "content-type",
                  "application/javascript"
                ]
              ],
              "status": 200,
              "status_text": ""
            }
          },
          "base_uri": "https://localhost:8080/",
          "height": 72
        },
        "id": "ygJFhTgYQ0V2",
        "outputId": "b586645c-5720-446b-c319-c1148bc302db"
      },
      "source": [
        "from google.colab import files\n",
        "  \n",
        "  \n",
        "uploaded = files.upload()"
      ],
      "execution_count": null,
      "outputs": [
        {
          "output_type": "display_data",
          "data": {
            "text/html": [
              "\n",
              "     <input type=\"file\" id=\"files-7b0f23fc-d0cb-4de6-8d5b-afaaed143d9d\" name=\"files[]\" multiple disabled\n",
              "        style=\"border:none\" />\n",
              "     <output id=\"result-7b0f23fc-d0cb-4de6-8d5b-afaaed143d9d\">\n",
              "      Upload widget is only available when the cell has been executed in the\n",
              "      current browser session. Please rerun this cell to enable.\n",
              "      </output>\n",
              "      <script src=\"/nbextensions/google.colab/files.js\"></script> "
            ],
            "text/plain": [
              "<IPython.core.display.HTML object>"
            ]
          },
          "metadata": {
            "tags": []
          }
        },
        {
          "output_type": "stream",
          "text": [
            "Saving Region_Data.csv to Region_Data.csv\n"
          ],
          "name": "stdout"
        }
      ]
    },
    {
      "cell_type": "code",
      "metadata": {
        "colab": {
          "base_uri": "https://localhost:8080/"
        },
        "id": "PWShL6_1Q5sb",
        "outputId": "6f30a77c-bb9c-411c-86db-9622abb8b517"
      },
      "source": [
        "import pandas as pd\n",
        "import io\n",
        "  \n",
        "df = pd.read_csv(io.BytesIO(uploaded['Region_Data.csv']))\n",
        "print(df)"
      ],
      "execution_count": null,
      "outputs": [
        {
          "output_type": "stream",
          "text": [
            "     Year                                 Region Name  ... SP.RUR.TOTL  SP.URB.TOTL\n",
            "0    2007                                  Arab World  ...   148138437    182152279\n",
            "1    2007              Central Europe and the Baltics  ...    40210586     65168162\n",
            "2    2007                  Early-demographic dividend  ...  1642568366   1134354137\n",
            "3    2007                         East Asia & Pacific  ...  1105876303   1055909270\n",
            "4    2007  East Asia & Pacific (IDA & IBRD countries)  ...  1061903356    837897174\n",
            "..    ...                                         ...  ...         ...          ...\n",
            "375  2016                          Sub-Saharan Africa  ...   622554759    399975777\n",
            "376  2016   Sub-Saharan Africa (IDA & IBRD countries)  ...   622554759    399975777\n",
            "377  2016  Sub-Saharan Africa (excluding high income)  ...   621766355    399406031\n",
            "378  2016                         Upper middle income  ...  1006873632   1787188074\n",
            "379  2016                                       World  ...  3386857553   4035639869\n",
            "\n",
            "[380 rows x 38 columns]\n"
          ],
          "name": "stdout"
        }
      ]
    },
    {
      "cell_type": "code",
      "metadata": {
        "id": "me9CbRJZR-Nj"
      },
      "source": [
        "import numpy as np\n",
        "import matplotlib.pyplot as plt"
      ],
      "execution_count": null,
      "outputs": []
    },
    {
      "cell_type": "code",
      "metadata": {
        "id": "E9SxBgUTTNDc"
      },
      "source": [
        "Region_details = pd.read_csv('Region_Data.csv')\n"
      ],
      "execution_count": null,
      "outputs": []
    },
    {
      "cell_type": "code",
      "metadata": {
        "colab": {
          "base_uri": "https://localhost:8080/"
        },
        "id": "cOOO-s_ATedx",
        "outputId": "177db8b7-9223-469a-e8d5-7b8f59313055"
      },
      "source": [
        "Region_details.shape"
      ],
      "execution_count": null,
      "outputs": [
        {
          "output_type": "execute_result",
          "data": {
            "text/plain": [
              "(380, 38)"
            ]
          },
          "metadata": {
            "tags": []
          },
          "execution_count": 21
        }
      ]
    },
    {
      "cell_type": "code",
      "metadata": {
        "colab": {
          "base_uri": "https://localhost:8080/",
          "height": 317
        },
        "id": "2-yIU-eYTkLB",
        "outputId": "d9bc87f1-98e1-4c57-e369-03f417d7eb7a"
      },
      "source": [
        "Region_details.describe ()"
      ],
      "execution_count": null,
      "outputs": [
        {
          "output_type": "execute_result",
          "data": {
            "text/html": [
              "<div>\n",
              "<style scoped>\n",
              "    .dataframe tbody tr th:only-of-type {\n",
              "        vertical-align: middle;\n",
              "    }\n",
              "\n",
              "    .dataframe tbody tr th {\n",
              "        vertical-align: top;\n",
              "    }\n",
              "\n",
              "    .dataframe thead th {\n",
              "        text-align: right;\n",
              "    }\n",
              "</style>\n",
              "<table border=\"1\" class=\"dataframe\">\n",
              "  <thead>\n",
              "    <tr style=\"text-align: right;\">\n",
              "      <th></th>\n",
              "      <th>Year</th>\n",
              "      <th>AG.LND.AGRI.K2</th>\n",
              "      <th>AG.LND.TOTL.K2</th>\n",
              "      <th>AG.SRF.TOTL.K2</th>\n",
              "      <th>EG.ELC.COAL.ZS</th>\n",
              "      <th>EG.ELC.FOSL.ZS</th>\n",
              "      <th>EG.ELC.HYRO.ZS</th>\n",
              "      <th>EG.ELC.NGAS.ZS</th>\n",
              "      <th>EG.ELC.NUCL.ZS</th>\n",
              "      <th>EG.ELC.PETR.ZS</th>\n",
              "      <th>EG.ELC.RNEW.ZS</th>\n",
              "      <th>EG.ELC.RNWX.KH</th>\n",
              "      <th>EG.ELC.RNWX.ZS</th>\n",
              "      <th>EG.FEC.RNEW.ZS</th>\n",
              "      <th>EG.GDP.PUSE.KO.PP</th>\n",
              "      <th>EG.USE.COMM.CL.ZS</th>\n",
              "      <th>EG.USE.COMM.FO.ZS</th>\n",
              "      <th>EG.USE.ELEC.KH.PC</th>\n",
              "      <th>EN.ATM.CO2E.GF.KT</th>\n",
              "      <th>EN.ATM.CO2E.GF.ZS</th>\n",
              "      <th>EN.ATM.CO2E.KT</th>\n",
              "      <th>EN.ATM.CO2E.LF.KT</th>\n",
              "      <th>EN.ATM.CO2E.LF.ZS</th>\n",
              "      <th>EN.ATM.CO2E.PC</th>\n",
              "      <th>EN.ATM.CO2E.PP.GD</th>\n",
              "      <th>EN.ATM.CO2E.SF.KT</th>\n",
              "      <th>EN.ATM.CO2E.SF.ZS</th>\n",
              "      <th>EN.CO2.BLDG.ZS</th>\n",
              "      <th>EN.CO2.ETOT.ZS</th>\n",
              "      <th>EN.CO2.MANF.ZS</th>\n",
              "      <th>EN.CO2.OTHX.ZS</th>\n",
              "      <th>EN.CO2.TRAN.ZS</th>\n",
              "      <th>EN.POP.DNST</th>\n",
              "      <th>NY.GDP.TOTL.RT.ZS</th>\n",
              "      <th>SP.RUR.TOTL</th>\n",
              "      <th>SP.URB.TOTL</th>\n",
              "    </tr>\n",
              "  </thead>\n",
              "  <tbody>\n",
              "    <tr>\n",
              "      <th>count</th>\n",
              "      <td>380.000000</td>\n",
              "      <td>3.800000e+02</td>\n",
              "      <td>3.800000e+02</td>\n",
              "      <td>3.800000e+02</td>\n",
              "      <td>342.000000</td>\n",
              "      <td>342.000000</td>\n",
              "      <td>342.000000</td>\n",
              "      <td>342.000000</td>\n",
              "      <td>327.000000</td>\n",
              "      <td>342.000000</td>\n",
              "      <td>342.000000</td>\n",
              "      <td>3.420000e+02</td>\n",
              "      <td>342.000000</td>\n",
              "      <td>342.000000</td>\n",
              "      <td>310.000000</td>\n",
              "      <td>327.000000</td>\n",
              "      <td>327.000000</td>\n",
              "      <td>304.000000</td>\n",
              "      <td>3.780000e+02</td>\n",
              "      <td>380.000000</td>\n",
              "      <td>3.800000e+02</td>\n",
              "      <td>3.780000e+02</td>\n",
              "      <td>380.000000</td>\n",
              "      <td>380.000000</td>\n",
              "      <td>380.000000</td>\n",
              "      <td>3.190000e+02</td>\n",
              "      <td>380.000000</td>\n",
              "      <td>304.000000</td>\n",
              "      <td>304.000000</td>\n",
              "      <td>304.000000</td>\n",
              "      <td>304.000000</td>\n",
              "      <td>304.000000</td>\n",
              "      <td>380.000000</td>\n",
              "      <td>380.000000</td>\n",
              "      <td>3.800000e+02</td>\n",
              "      <td>3.800000e+02</td>\n",
              "    </tr>\n",
              "    <tr>\n",
              "      <th>mean</th>\n",
              "      <td>2011.500000</td>\n",
              "      <td>1.092056e+07</td>\n",
              "      <td>2.963199e+07</td>\n",
              "      <td>3.054867e+07</td>\n",
              "      <td>33.129410</td>\n",
              "      <td>66.119309</td>\n",
              "      <td>19.576298</td>\n",
              "      <td>25.199645</td>\n",
              "      <td>7.583499</td>\n",
              "      <td>7.790254</td>\n",
              "      <td>23.720147</td>\n",
              "      <td>1.817444e+11</td>\n",
              "      <td>3.277488</td>\n",
              "      <td>26.642001</td>\n",
              "      <td>7.518147</td>\n",
              "      <td>6.181118</td>\n",
              "      <td>74.774856</td>\n",
              "      <td>3008.996368</td>\n",
              "      <td>1.313326e+06</td>\n",
              "      <td>21.845130</td>\n",
              "      <td>6.987935e+06</td>\n",
              "      <td>2.036469e+06</td>\n",
              "      <td>35.866872</td>\n",
              "      <td>4.682169</td>\n",
              "      <td>0.321946</td>\n",
              "      <td>3.816180e+06</td>\n",
              "      <td>34.290152</td>\n",
              "      <td>9.680375</td>\n",
              "      <td>46.892955</td>\n",
              "      <td>18.741113</td>\n",
              "      <td>2.505395</td>\n",
              "      <td>22.180195</td>\n",
              "      <td>73.006312</td>\n",
              "      <td>8.314831</td>\n",
              "      <td>8.316844e+08</td>\n",
              "      <td>8.620777e+08</td>\n",
              "    </tr>\n",
              "    <tr>\n",
              "      <th>std</th>\n",
              "      <td>2.876068</td>\n",
              "      <td>1.047361e+07</td>\n",
              "      <td>2.837819e+07</td>\n",
              "      <td>2.925308e+07</td>\n",
              "      <td>22.640681</td>\n",
              "      <td>14.457547</td>\n",
              "      <td>12.320086</td>\n",
              "      <td>15.903862</td>\n",
              "      <td>8.807210</td>\n",
              "      <td>7.711385</td>\n",
              "      <td>13.123824</td>\n",
              "      <td>2.610666e+11</td>\n",
              "      <td>3.264878</td>\n",
              "      <td>22.278289</td>\n",
              "      <td>1.724615</td>\n",
              "      <td>5.070007</td>\n",
              "      <td>17.882966</td>\n",
              "      <td>2927.508261</td>\n",
              "      <td>1.378606e+06</td>\n",
              "      <td>11.629825</td>\n",
              "      <td>7.601309e+06</td>\n",
              "      <td>2.120630e+06</td>\n",
              "      <td>13.725442</td>\n",
              "      <td>3.499723</td>\n",
              "      <td>0.107461</td>\n",
              "      <td>4.177943e+06</td>\n",
              "      <td>21.762956</td>\n",
              "      <td>3.819258</td>\n",
              "      <td>6.759971</td>\n",
              "      <td>6.226976</td>\n",
              "      <td>0.783156</td>\n",
              "      <td>7.972332</td>\n",
              "      <td>73.017845</td>\n",
              "      <td>7.959428</td>\n",
              "      <td>9.339959e+08</td>\n",
              "      <td>8.642321e+08</td>\n",
              "    </tr>\n",
              "    <tr>\n",
              "      <th>min</th>\n",
              "      <td>2007.000000</td>\n",
              "      <td>5.162338e+05</td>\n",
              "      <td>1.103137e+06</td>\n",
              "      <td>1.134876e+06</td>\n",
              "      <td>0.093507</td>\n",
              "      <td>35.924644</td>\n",
              "      <td>2.276934</td>\n",
              "      <td>5.281910</td>\n",
              "      <td>0.000000</td>\n",
              "      <td>0.586377</td>\n",
              "      <td>2.741456</td>\n",
              "      <td>1.330000e+08</td>\n",
              "      <td>0.037288</td>\n",
              "      <td>1.557857</td>\n",
              "      <td>4.179494</td>\n",
              "      <td>0.350604</td>\n",
              "      <td>25.568216</td>\n",
              "      <td>191.328054</td>\n",
              "      <td>4.955544e+04</td>\n",
              "      <td>4.232084</td>\n",
              "      <td>2.743078e+05</td>\n",
              "      <td>1.229215e+05</td>\n",
              "      <td>14.753262</td>\n",
              "      <td>0.408003</td>\n",
              "      <td>0.146801</td>\n",
              "      <td>2.154985e+04</td>\n",
              "      <td>0.984680</td>\n",
              "      <td>4.447887</td>\n",
              "      <td>28.318891</td>\n",
              "      <td>8.272063</td>\n",
              "      <td>0.952516</td>\n",
              "      <td>9.434830</td>\n",
              "      <td>16.626366</td>\n",
              "      <td>0.084283</td>\n",
              "      <td>3.894782e+07</td>\n",
              "      <td>6.404646e+07</td>\n",
              "    </tr>\n",
              "    <tr>\n",
              "      <th>25%</th>\n",
              "      <td>2009.000000</td>\n",
              "      <td>4.613151e+06</td>\n",
              "      <td>1.308184e+07</td>\n",
              "      <td>1.314233e+07</td>\n",
              "      <td>5.221489</td>\n",
              "      <td>58.252920</td>\n",
              "      <td>12.508589</td>\n",
              "      <td>15.569603</td>\n",
              "      <td>1.624126</td>\n",
              "      <td>2.527476</td>\n",
              "      <td>17.577910</td>\n",
              "      <td>4.818000e+09</td>\n",
              "      <td>0.887685</td>\n",
              "      <td>10.843365</td>\n",
              "      <td>6.142212</td>\n",
              "      <td>2.199248</td>\n",
              "      <td>70.536806</td>\n",
              "      <td>703.486541</td>\n",
              "      <td>3.433673e+05</td>\n",
              "      <td>14.096271</td>\n",
              "      <td>1.421030e+06</td>\n",
              "      <td>5.670025e+05</td>\n",
              "      <td>24.168915</td>\n",
              "      <td>1.506891</td>\n",
              "      <td>0.232903</td>\n",
              "      <td>3.432844e+05</td>\n",
              "      <td>9.093370</td>\n",
              "      <td>6.593263</td>\n",
              "      <td>42.468232</td>\n",
              "      <td>13.200583</td>\n",
              "      <td>2.101897</td>\n",
              "      <td>14.768367</td>\n",
              "      <td>34.362123</td>\n",
              "      <td>2.366563</td>\n",
              "      <td>1.410464e+08</td>\n",
              "      <td>2.794325e+08</td>\n",
              "    </tr>\n",
              "    <tr>\n",
              "      <th>50%</th>\n",
              "      <td>2011.500000</td>\n",
              "      <td>7.786361e+06</td>\n",
              "      <td>2.137102e+07</td>\n",
              "      <td>2.179917e+07</td>\n",
              "      <td>34.343145</td>\n",
              "      <td>67.247292</td>\n",
              "      <td>16.545088</td>\n",
              "      <td>21.988801</td>\n",
              "      <td>3.153915</td>\n",
              "      <td>4.018355</td>\n",
              "      <td>21.261820</td>\n",
              "      <td>6.846550e+10</td>\n",
              "      <td>2.381503</td>\n",
              "      <td>17.322284</td>\n",
              "      <td>7.291942</td>\n",
              "      <td>4.412132</td>\n",
              "      <td>80.555622</td>\n",
              "      <td>2071.809396</td>\n",
              "      <td>6.871743e+05</td>\n",
              "      <td>21.451394</td>\n",
              "      <td>2.984403e+06</td>\n",
              "      <td>1.076507e+06</td>\n",
              "      <td>32.679332</td>\n",
              "      <td>4.014691</td>\n",
              "      <td>0.304933</td>\n",
              "      <td>1.795541e+06</td>\n",
              "      <td>33.345900</td>\n",
              "      <td>8.333196</td>\n",
              "      <td>48.416706</td>\n",
              "      <td>18.554023</td>\n",
              "      <td>2.413430</td>\n",
              "      <td>22.101781</td>\n",
              "      <td>44.046681</td>\n",
              "      <td>6.302313</td>\n",
              "      <td>4.273982e+08</td>\n",
              "      <td>4.773414e+08</td>\n",
              "    </tr>\n",
              "    <tr>\n",
              "      <th>75%</th>\n",
              "      <td>2014.000000</td>\n",
              "      <td>1.220376e+07</td>\n",
              "      <td>3.323820e+07</td>\n",
              "      <td>3.413952e+07</td>\n",
              "      <td>51.637080</td>\n",
              "      <td>75.366894</td>\n",
              "      <td>20.684101</td>\n",
              "      <td>28.059725</td>\n",
              "      <td>13.981257</td>\n",
              "      <td>11.242768</td>\n",
              "      <td>24.412286</td>\n",
              "      <td>2.607500e+11</td>\n",
              "      <td>4.337935</td>\n",
              "      <td>39.877580</td>\n",
              "      <td>8.651316</td>\n",
              "      <td>8.154273</td>\n",
              "      <td>85.679900</td>\n",
              "      <td>3989.682747</td>\n",
              "      <td>2.143954e+06</td>\n",
              "      <td>28.086927</td>\n",
              "      <td>1.203196e+07</td>\n",
              "      <td>2.767889e+06</td>\n",
              "      <td>45.797159</td>\n",
              "      <td>6.533208</td>\n",
              "      <td>0.387574</td>\n",
              "      <td>7.741670e+06</td>\n",
              "      <td>52.795386</td>\n",
              "      <td>11.955695</td>\n",
              "      <td>51.312866</td>\n",
              "      <td>24.627956</td>\n",
              "      <td>2.933044</td>\n",
              "      <td>27.283727</td>\n",
              "      <td>92.705038</td>\n",
              "      <td>11.136809</td>\n",
              "      <td>1.091994e+09</td>\n",
              "      <td>1.059345e+09</td>\n",
              "    </tr>\n",
              "    <tr>\n",
              "      <th>max</th>\n",
              "      <td>2016.000000</td>\n",
              "      <td>4.795942e+07</td>\n",
              "      <td>1.299566e+08</td>\n",
              "      <td>1.345497e+08</td>\n",
              "      <td>73.755915</td>\n",
              "      <td>92.949226</td>\n",
              "      <td>56.616862</td>\n",
              "      <td>67.125954</td>\n",
              "      <td>31.569903</td>\n",
              "      <td>28.938111</td>\n",
              "      <td>59.871159</td>\n",
              "      <td>1.640000e+12</td>\n",
              "      <td>18.739442</td>\n",
              "      <td>78.357720</td>\n",
              "      <td>12.407328</td>\n",
              "      <td>20.885000</td>\n",
              "      <td>98.709069</td>\n",
              "      <td>13955.284810</td>\n",
              "      <td>7.056781e+06</td>\n",
              "      <td>46.354443</td>\n",
              "      <td>3.410319e+07</td>\n",
              "      <td>1.048250e+07</td>\n",
              "      <td>66.309145</td>\n",
              "      <td>19.036177</td>\n",
              "      <td>0.610507</td>\n",
              "      <td>1.529133e+07</td>\n",
              "      <td>70.590448</td>\n",
              "      <td>19.448403</td>\n",
              "      <td>58.011978</td>\n",
              "      <td>33.326912</td>\n",
              "      <td>5.036077</td>\n",
              "      <td>44.176776</td>\n",
              "      <td>371.252624</td>\n",
              "      <td>38.249478</td>\n",
              "      <td>3.386858e+09</td>\n",
              "      <td>4.035640e+09</td>\n",
              "    </tr>\n",
              "  </tbody>\n",
              "</table>\n",
              "</div>"
            ],
            "text/plain": [
              "              Year  AG.LND.AGRI.K2  ...   SP.RUR.TOTL   SP.URB.TOTL\n",
              "count   380.000000    3.800000e+02  ...  3.800000e+02  3.800000e+02\n",
              "mean   2011.500000    1.092056e+07  ...  8.316844e+08  8.620777e+08\n",
              "std       2.876068    1.047361e+07  ...  9.339959e+08  8.642321e+08\n",
              "min    2007.000000    5.162338e+05  ...  3.894782e+07  6.404646e+07\n",
              "25%    2009.000000    4.613151e+06  ...  1.410464e+08  2.794325e+08\n",
              "50%    2011.500000    7.786361e+06  ...  4.273982e+08  4.773414e+08\n",
              "75%    2014.000000    1.220376e+07  ...  1.091994e+09  1.059345e+09\n",
              "max    2016.000000    4.795942e+07  ...  3.386858e+09  4.035640e+09\n",
              "\n",
              "[8 rows x 36 columns]"
            ]
          },
          "metadata": {
            "tags": []
          },
          "execution_count": 23
        }
      ]
    },
    {
      "cell_type": "code",
      "metadata": {
        "colab": {
          "base_uri": "https://localhost:8080/",
          "height": 333
        },
        "id": "JOZuJnKkwlde",
        "outputId": "87f2fcff-c46a-4f40-964d-6a590c38c4df"
      },
      "source": [
        "import numpy as np\n",
        "import matplotlib.pyplot as plt\n",
        "import pandas as pd\n",
        "import wbdata as wb"
      ],
      "execution_count": null,
      "outputs": [
        {
          "output_type": "error",
          "ename": "ModuleNotFoundError",
          "evalue": "ignored",
          "traceback": [
            "\u001b[0;31m---------------------------------------------------------------------------\u001b[0m",
            "\u001b[0;31mModuleNotFoundError\u001b[0m                       Traceback (most recent call last)",
            "\u001b[0;32m<ipython-input-57-1b14159f3f46>\u001b[0m in \u001b[0;36m<module>\u001b[0;34m()\u001b[0m\n\u001b[1;32m      2\u001b[0m \u001b[0;32mimport\u001b[0m \u001b[0mmatplotlib\u001b[0m\u001b[0;34m.\u001b[0m\u001b[0mpyplot\u001b[0m \u001b[0;32mas\u001b[0m \u001b[0mplt\u001b[0m\u001b[0;34m\u001b[0m\u001b[0;34m\u001b[0m\u001b[0m\n\u001b[1;32m      3\u001b[0m \u001b[0;32mimport\u001b[0m \u001b[0mpandas\u001b[0m \u001b[0;32mas\u001b[0m \u001b[0mpd\u001b[0m\u001b[0;34m\u001b[0m\u001b[0;34m\u001b[0m\u001b[0m\n\u001b[0;32m----> 4\u001b[0;31m \u001b[0;32mimport\u001b[0m \u001b[0mwbdata\u001b[0m \u001b[0;32mas\u001b[0m \u001b[0mregion\u001b[0m\u001b[0;34m\u001b[0m\u001b[0;34m\u001b[0m\u001b[0m\n\u001b[0m",
            "\u001b[0;31mModuleNotFoundError\u001b[0m: No module named 'wbdata'",
            "",
            "\u001b[0;31m---------------------------------------------------------------------------\u001b[0;32m\nNOTE: If your import is failing due to a missing package, you can\nmanually install dependencies using either !pip or !apt.\n\nTo view examples of installing some common dependencies, click the\n\"Open Examples\" button below.\n\u001b[0;31m---------------------------------------------------------------------------\u001b[0m\n"
          ]
        }
      ]
    },
    {
      "cell_type": "markdown",
      "metadata": {
        "id": "s3aR9Fbs1get"
      },
      "source": [
        ""
      ]
    },
    {
      "cell_type": "code",
      "metadata": {
        "colab": {
          "base_uri": "https://localhost:8080/",
          "height": 163
        },
        "id": "ht4Yfpwo1dDk",
        "outputId": "c44ef8c9-211e-4ee3-8bdf-23fa4ac1ae95"
      },
      "source": [
        "wb.search_indicators(\"CO2 emission\")"
      ],
      "execution_count": null,
      "outputs": [
        {
          "output_type": "error",
          "ename": "NameError",
          "evalue": "ignored",
          "traceback": [
            "\u001b[0;31m---------------------------------------------------------------------------\u001b[0m",
            "\u001b[0;31mNameError\u001b[0m                                 Traceback (most recent call last)",
            "\u001b[0;32m<ipython-input-56-ee23e778e746>\u001b[0m in \u001b[0;36m<module>\u001b[0;34m()\u001b[0m\n\u001b[0;32m----> 1\u001b[0;31m \u001b[0mwb\u001b[0m\u001b[0;34m.\u001b[0m\u001b[0msearch_indicators\u001b[0m\u001b[0;34m(\u001b[0m\u001b[0;34m\"CO2 emission\"\u001b[0m\u001b[0;34m)\u001b[0m\u001b[0;34m\u001b[0m\u001b[0;34m\u001b[0m\u001b[0m\n\u001b[0m",
            "\u001b[0;31mNameError\u001b[0m: name 'wb' is not defined"
          ]
        }
      ]
    }
  ]
}